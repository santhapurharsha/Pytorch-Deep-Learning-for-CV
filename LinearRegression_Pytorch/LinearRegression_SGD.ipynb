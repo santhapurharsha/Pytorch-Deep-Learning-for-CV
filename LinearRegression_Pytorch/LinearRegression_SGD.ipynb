{
  "nbformat": 4,
  "nbformat_minor": 0,
  "metadata": {
    "colab": {
      "name": "Colab's New Code Editor",
      "version": "0.3.2",
      "provenance": [],
      "collapsed_sections": [],
      "include_colab_link": true
    },
    "kernelspec": {
      "display_name": "Python 3",
      "name": "python3"
    }
  },
  "cells": [
    {
      "cell_type": "markdown",
      "metadata": {
        "id": "view-in-github",
        "colab_type": "text"
      },
      "source": [
        "<a href=\"https://colab.research.google.com/github/santhapurharsha/Pytorch-Deep-Learning-for-CV/blob/master/LinearRegression_Pytorch/LinearRegression_SGD.ipynb\" target=\"_parent\"><img src=\"https://colab.research.google.com/assets/colab-badge.svg\" alt=\"Open In Colab\"/></a>"
      ]
    },
    {
      "cell_type": "code",
      "metadata": {
        "id": "qfmywOrbie6M",
        "colab_type": "code",
        "colab": {
          "base_uri": "https://localhost:8080/",
          "height": 51
        },
        "outputId": "7c91832a-c283-4ef6-a67c-2929ef717997"
      },
      "source": [
        "!pip3 install torch"
      ],
      "execution_count": 13,
      "outputs": [
        {
          "output_type": "stream",
          "text": [
            "Requirement already satisfied: torch in /usr/local/lib/python3.6/dist-packages (1.1.0)\n",
            "Requirement already satisfied: numpy in /usr/local/lib/python3.6/dist-packages (from torch) (1.16.5)\n"
          ],
          "name": "stdout"
        }
      ]
    },
    {
      "cell_type": "code",
      "metadata": {
        "id": "03hjNHGki0QV",
        "colab_type": "code",
        "colab": {}
      },
      "source": [
        "import torch\n",
        "import torch.nn as nn\n",
        "import matplotlib.pyplot as plt\n",
        "import numpy as np\n"
      ],
      "execution_count": 0,
      "outputs": []
    },
    {
      "cell_type": "code",
      "metadata": {
        "id": "YSUbtTwk2iVF",
        "colab_type": "code",
        "colab": {
          "base_uri": "https://localhost:8080/",
          "height": 300
        },
        "outputId": "e8a79ce9-d773-4b12-88d8-a0270895093f"
      },
      "source": [
        "X = torch.randn(100, 1)*10\n",
        "y = X + 3*torch.randn(100, 1)\n",
        "plt.plot(X.numpy(),y.numpy(), 'o')\n",
        "plt.ylabel('y')\n",
        "plt.xlabel('x')"
      ],
      "execution_count": 27,
      "outputs": [
        {
          "output_type": "execute_result",
          "data": {
            "text/plain": [
              "Text(0.5, 0, 'x')"
            ]
          },
          "metadata": {
            "tags": []
          },
          "execution_count": 27
        },
        {
          "output_type": "display_data",
          "data": {
            "image/png": "[encoded data removed]",
            "text/plain": [
              "<Figure size 432x288 with 1 Axes>"
            ]
          },
          "metadata": {
            "tags": []
          }
        }
      ]
    },
    {
      "cell_type": "code",
      "metadata": {
        "id": "KW5cIJN9v17Y",
        "colab_type": "code",
        "colab": {}
      },
      "source": [
        "class LR(nn.Module):\n",
        "  def __init__(self, input_size, output_size):\n",
        "    super().__init__()\n",
        "    self.linear = nn.Linear(input_size, output_size)\n",
        "  def forward(self,x):\n",
        "    pred = self.linear(x)\n",
        "    return pred"
      ],
      "execution_count": 0,
      "outputs": []
    },
    {
      "cell_type": "code",
      "metadata": {
        "id": "MTRWHrhf4gJf",
        "colab_type": "code",
        "colab": {
          "base_uri": "https://localhost:8080/",
          "height": 68
        },
        "outputId": "16b78eed-78f8-4270-c4b9-2b03091b10a5"
      },
      "source": [
        "torch.manual_seed(1)\n",
        "model = LR(1,1)\n",
        "print(model)"
      ],
      "execution_count": 29,
      "outputs": [
        {
          "output_type": "stream",
          "text": [
            "LR(\n",
            "  (linear): Linear(in_features=1, out_features=1, bias=True)\n",
            ")\n"
          ],
          "name": "stdout"
        }
      ]
    },
    {
      "cell_type": "code",
      "metadata": {
        "id": "Q3dW2sHS4m4C",
        "colab_type": "code",
        "colab": {}
      },
      "source": [
        "[w ,b] = model.parameters()\n",
        "def get_params():\n",
        "  return(w[0][0].item(), b[0].item() )"
      ],
      "execution_count": 0,
      "outputs": []
    },
    {
      "cell_type": "code",
      "metadata": {
        "id": "ZgEu4D2z5pA3",
        "colab_type": "code",
        "colab": {}
      },
      "source": [
        "def plot_fit(title):\n",
        "  plt.title = title\n",
        "  w1, b1 = get_params()\n",
        "  x1 =  np.array([-30, 30]) \n",
        "  y1 =  w1*x1 + b1\n",
        "  plt.plot(x1, y1, 'r')\n",
        "  plt.scatter(X, y)\n",
        "  plt.show()"
      ],
      "execution_count": 0,
      "outputs": []
    },
    {
      "cell_type": "code",
      "metadata": {
        "id": "BGMY3etS6R_T",
        "colab_type": "code",
        "colab": {
          "base_uri": "https://localhost:8080/",
          "height": 269
        },
        "outputId": "f8a278e1-c8aa-43c4-f824-70457c530789"
      },
      "source": [
        "plot_fit('Initial Model')"
      ],
      "execution_count": 20,
      "outputs": [
        {
          "output_type": "display_data",
          "data": {
            "image/png": "[encoded data removed]",
            "text/plain": [
              "<Figure size 432x288 with 1 Axes>"
            ]
          },
          "metadata": {
            "tags": []
          }
        }
      ]
    },
    {
      "cell_type": "code",
      "metadata": {
        "id": "Aq-PKtcRTIua",
        "colab_type": "code",
        "colab": {}
      },
      "source": [
        "criterion = nn.MSELoss()\n",
        "optimizer = torch.optim.SGD(model.parameters(), lr = 0.001)"
      ],
      "execution_count": 0,
      "outputs": []
    },
    {
      "cell_type": "code",
      "metadata": {
        "id": "85yTv3uOT-QT",
        "colab_type": "code",
        "colab": {}
      },
      "source": [
        "epochs = 100"
      ],
      "execution_count": 0,
      "outputs": []
    },
    {
      "cell_type": "code",
      "metadata": {
        "id": "G1xyMSSIUVAq",
        "colab_type": "code",
        "colab": {
          "base_uri": "https://localhost:8080/",
          "height": 1000
        },
        "outputId": "4e7e4df9-4ac6-4107-ea74-36d48fe065e1"
      },
      "source": [
        "losses = []\n",
        "for i in range(epochs):\n",
        "  y_pred = model.forward(X)\n",
        "  loss = criterion(y_pred, y)\n",
        "  print(\"epoch:\", i,\"loss:\", loss.item())\n",
        "  \n",
        "  losses.append(loss)\n",
        "  optimizer.zero_grad()\n",
        "  loss.backward()\n",
        "  optimizer.step()"
      ],
      "execution_count": 43,
      "outputs": [
        {
          "output_type": "stream",
          "text": [
            "epoch: 0 loss: 8.390789985656738\n",
            "epoch: 1 loss: 8.390782356262207\n",
            "epoch: 2 loss: 8.39077377319336\n",
            "epoch: 3 loss: 8.390766143798828\n",
            "epoch: 4 loss: 8.39075756072998\n",
            "epoch: 5 loss: 8.39074993133545\n",
            "epoch: 6 loss: 8.390741348266602\n",
            "epoch: 7 loss: 8.39073371887207\n",
            "epoch: 8 loss: 8.390725135803223\n",
            "epoch: 9 loss: 8.390717506408691\n",
            "epoch: 10 loss: 8.39070987701416\n",
            "epoch: 11 loss: 8.390701293945312\n",
            "epoch: 12 loss: 8.390693664550781\n",
            "epoch: 13 loss: 8.39068603515625\n",
            "epoch: 14 loss: 8.390678405761719\n",
            "epoch: 15 loss: 8.390669822692871\n",
            "epoch: 16 loss: 8.39066219329834\n",
            "epoch: 17 loss: 8.390655517578125\n",
            "epoch: 18 loss: 8.390646934509277\n",
            "epoch: 19 loss: 8.390639305114746\n",
            "epoch: 20 loss: 8.390631675720215\n",
            "epoch: 21 loss: 8.390624046325684\n",
            "epoch: 22 loss: 8.390616416931152\n",
            "epoch: 23 loss: 8.390608787536621\n",
            "epoch: 24 loss: 8.390602111816406\n",
            "epoch: 25 loss: 8.390594482421875\n",
            "epoch: 26 loss: 8.390585899353027\n",
            "epoch: 27 loss: 8.390579223632812\n",
            "epoch: 28 loss: 8.390571594238281\n",
            "epoch: 29 loss: 8.39056396484375\n",
            "epoch: 30 loss: 8.390556335449219\n",
            "epoch: 31 loss: 8.390549659729004\n",
            "epoch: 32 loss: 8.390542030334473\n",
            "epoch: 33 loss: 8.390535354614258\n",
            "epoch: 34 loss: 8.390527725219727\n",
            "epoch: 35 loss: 8.390521049499512\n",
            "epoch: 36 loss: 8.39051342010498\n",
            "epoch: 37 loss: 8.39050579071045\n",
            "epoch: 38 loss: 8.390499114990234\n",
            "epoch: 39 loss: 8.39049243927002\n",
            "epoch: 40 loss: 8.390484809875488\n",
            "epoch: 41 loss: 8.390478134155273\n",
            "epoch: 42 loss: 8.390470504760742\n",
            "epoch: 43 loss: 8.390463829040527\n",
            "epoch: 44 loss: 8.390457153320312\n",
            "epoch: 45 loss: 8.390450477600098\n",
            "epoch: 46 loss: 8.390442848205566\n",
            "epoch: 47 loss: 8.390436172485352\n",
            "epoch: 48 loss: 8.390429496765137\n",
            "epoch: 49 loss: 8.390422821044922\n",
            "epoch: 50 loss: 8.390416145324707\n",
            "epoch: 51 loss: 8.390408515930176\n",
            "epoch: 52 loss: 8.390402793884277\n",
            "epoch: 53 loss: 8.390395164489746\n",
            "epoch: 54 loss: 8.390388488769531\n",
            "epoch: 55 loss: 8.390382766723633\n",
            "epoch: 56 loss: 8.390376091003418\n",
            "epoch: 57 loss: 8.390369415283203\n",
            "epoch: 58 loss: 8.390362739562988\n",
            "epoch: 59 loss: 8.390356063842773\n",
            "epoch: 60 loss: 8.390349388122559\n",
            "epoch: 61 loss: 8.390342712402344\n",
            "epoch: 62 loss: 8.390336036682129\n",
            "epoch: 63 loss: 8.39033031463623\n",
            "epoch: 64 loss: 8.390323638916016\n",
            "epoch: 65 loss: 8.3903169631958\n",
            "epoch: 66 loss: 8.390310287475586\n",
            "epoch: 67 loss: 8.390304565429688\n",
            "epoch: 68 loss: 8.390297889709473\n",
            "epoch: 69 loss: 8.390291213989258\n",
            "epoch: 70 loss: 8.39028549194336\n",
            "epoch: 71 loss: 8.390278816223145\n",
            "epoch: 72 loss: 8.390273094177246\n",
            "epoch: 73 loss: 8.390266418457031\n",
            "epoch: 74 loss: 8.390260696411133\n",
            "epoch: 75 loss: 8.390254974365234\n",
            "epoch: 76 loss: 8.39024829864502\n",
            "epoch: 77 loss: 8.390241622924805\n",
            "epoch: 78 loss: 8.390235900878906\n",
            "epoch: 79 loss: 8.390230178833008\n",
            "epoch: 80 loss: 8.390223503112793\n",
            "epoch: 81 loss: 8.390217781066895\n",
            "epoch: 82 loss: 8.390212059020996\n",
            "epoch: 83 loss: 8.390206336975098\n",
            "epoch: 84 loss: 8.390199661254883\n",
            "epoch: 85 loss: 8.390193939208984\n",
            "epoch: 86 loss: 8.390188217163086\n",
            "epoch: 87 loss: 8.390181541442871\n",
            "epoch: 88 loss: 8.390176773071289\n",
            "epoch: 89 loss: 8.39017105102539\n",
            "epoch: 90 loss: 8.390164375305176\n",
            "epoch: 91 loss: 8.390158653259277\n",
            "epoch: 92 loss: 8.390152931213379\n",
            "epoch: 93 loss: 8.39014720916748\n",
            "epoch: 94 loss: 8.390141487121582\n",
            "epoch: 95 loss: 8.390135765075684\n",
            "epoch: 96 loss: 8.390130043029785\n",
            "epoch: 97 loss: 8.390124320983887\n",
            "epoch: 98 loss: 8.390119552612305\n",
            "epoch: 99 loss: 8.390113830566406\n"
          ],
          "name": "stdout"
        }
      ]
    },
    {
      "cell_type": "code",
      "metadata": {
        "id": "UZOpkGfQVa2J",
        "colab_type": "code",
        "colab": {
          "base_uri": "https://localhost:8080/",
          "height": 307
        },
        "outputId": "6dadf506-cf02-425f-b905-a20139b1a7a1"
      },
      "source": [
        "plt.plot(range(epochs), losses)\n",
        "plt.ylabel('Loss')\n",
        "plt.xlabel('epoch')"
      ],
      "execution_count": 38,
      "outputs": [
        {
          "output_type": "execute_result",
          "data": {
            "text/plain": [
              "Text(0.5, 0, 'epoch')"
            ]
          },
          "metadata": {
            "tags": []
          },
          "execution_count": 38
        },
        {
          "output_type": "display_data",
          "data": {
            "image/png": "[encoded data removed]",
            "text/plain": [
              "<Figure size 432x288 with 1 Axes>"
            ]
          },
          "metadata": {
            "tags": []
          }
        }
      ]
    }
  ]
}